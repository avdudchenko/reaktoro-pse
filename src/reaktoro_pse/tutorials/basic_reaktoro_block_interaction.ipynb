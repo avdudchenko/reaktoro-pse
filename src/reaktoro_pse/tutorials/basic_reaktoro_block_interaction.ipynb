{
 "cells": [
  {
   "cell_type": "markdown",
   "metadata": {},
   "source": [
    "# Tutorial on interacting with ReaktoroBlock\n",
    "Demonstration of basic Reaktoro Block usage.\n",
    "\n",
    "## Dependencies\n",
    "* Python - Programming language\n",
    "* Pyomo - Python package for equation-oriented modeling\n",
    "* IDAES - Python package extending Pyomo for flowsheet modeling\n",
    "* cyipopt - Solver necessary for use with gray box models\n",
    "* Reaktoro-pse - Python package for building Reaktoro gray box models\n",
    "* watertap-solvers - for cyipopt solver wrapper\n",
    "* WaterTAP - for NaCl property package"
   ]
  },
  {
   "cell_type": "markdown",
   "metadata": {},
   "source": [
    "## Demonstration structure \n",
    "* Background on speciation and Reaktoro-pse philosophy \n",
    "* Setting up basic speciation block and calculating properties for a sea water composition\n",
    "    * Demonstrate key configuration options\n",
    "    * Key display options\n",
    "    * How to adjust apparent species to achieve zero charge\n",
    "    * Adding chemical to adjust pH\n"
   ]
  },
  {
   "cell_type": "markdown",
   "metadata": {},
   "source": [
    "## Reaktoro-PSE API and structure \n",
    "Reaktoro-pse is a wrapper for enabling use of [Reaktoro](https://reaktoro.org/) as a [Graybox model](https://pyomo.readthedocs.io/en/stable/contributed_packages/pynumero/pynumero.interfaces.external_grey_box_model.html) in IDAES compatible modeling platforms such as WaterTAP. This is not a replacement for Reaktoro or higher level API for Reaktoro. \n",
    "\n",
    "The general objective is to provide a structure that enables user to automatically build Reaktoro Graybox model by specifying:\n",
    "\n",
    "* Input ion composition (apparent  or exact species)\n",
    "* System temperature, pressure, pH, and charge neutrality\n",
    "* Reaktoro databases and activity models\n",
    "* Outputs supported by Reaktoro and custom outputs built using Reaktoro database information and outputs \n",
    "\n",
    "The general API structure is shown in Figure bellow. The figure shows the type of inputs and outputs and how they are handled by core api to configure Reaktoro Graybox model. "
   ]
  },
  {
   "cell_type": "markdown",
   "metadata": {},
   "source": [
    "<img src=\"reaktoro_pse_api.png\" width=\"1000\" height=\"650\">"
   ]
  },
  {
   "cell_type": "markdown",
   "metadata": {},
   "source": [
    "Reaktoro-pse supports all available databases and activity models provided by Reaktoro:\n",
    "* Please refer here for information on [databases](https://reaktoro.org/tutorials/basics/loading-databases.html) (all are supported) \n",
    "* Please refer here for information on [activity models](https://reaktoro.org/tutorials/basics/specifying-activity-models.html) (all are supported, included chain operations, or passing in pre-configured activity models) \n",
    "\n",
    "Reaktoro-pse supports all properties that provide as single floating point or real value as an output from chemical and aqueous properties: \n",
    "* [Chemical properties](https://reaktoro.org/api/classReaktoro_1_1ChemicalProps.html)\n",
    "* [Aqueous properties](https://reaktoro.org/api/classReaktoro_1_1AqueousProps.html)\n",
    "* Pyomo build properties, which are custom properties built in Pyomo that use chemical properties or aqueous properties "
   ]
  },
  {
   "cell_type": "markdown",
   "metadata": {},
   "source": [
    "## ReaktoroBlock builds Reaktoro Graybox using standard IDAES StateBlock methods\n",
    "\n",
    "The ReaktoroBlock automates construction of reaktoro Graybox as a IDAES [StateBlock](https://idaes-pse.readthedocs.io/en/stable/explanations/components/property_package/state_block.html), providing range of configuration of options to simplify performing equilibrium chemistry calculations:\n",
    "\n",
    "* Enables construction of speciation block and propagation of exact spetiation to property block to enable chemistry modification\n",
    "* Supports indexing \n",
    "* Provides options to configure Reaktoro property block (and if constructed speciation block) \n",
    "* Uses core api functionality to automatically scale input and output variables and constraints if user does not provide any\n",
    "* Automatically scales gray box jacobian \n",
    "* Provides defaults to simplify configuration and usage for typical calculations \n",
    "\n",
    "**Minimal configuration options required for RreaktoroBlock:**\n",
    "* Database and database file selection from Reaktoro\n",
    "* Activity models for phases being considered from Reaktoro\n",
    "* Input apparent or exact species mol or mass flows (**concentrations are not supported!**)\n",
    "* If speciation block is needed (if exact speciation is not provided then generally yes)\n",
    "* System states (temperature, pressure, or pH, unless they are being solved for)\n",
    "* Outputs of interest "
   ]
  },
  {
   "cell_type": "markdown",
   "metadata": {},
   "source": [
    "### Getting basic properties from ReaktoroBlock\n",
    "<img src=\"direct_prop.png\" width=\"800\" height=\"300\">"
   ]
  },
  {
   "cell_type": "markdown",
   "metadata": {},
   "source": [
    "## Import needed modules"
   ]
  },
  {
   "cell_type": "code",
   "execution_count": 1,
   "metadata": {},
   "outputs": [],
   "source": [
    "## Import core components\n",
    "# Pyomo core components\n",
    "from pyomo.environ import (\n",
    "    Var,\n",
    "    Constraint,\n",
    "    ConcreteModel,\n",
    "    Block,\n",
    "    assert_optimal_termination,\n",
    "    units as pyunits,\n",
    ")\n",
    "\n",
    "# Ideas core components\n",
    "from idaes.core import FlowsheetBlock\n",
    "from idaes.core.util.scaling import (\n",
    "    calculate_scaling_factors,\n",
    "    set_scaling_factor,\n",
    "    constraint_scaling_transform,\n",
    ")\n",
    "\n",
    "from idaes.core.util.model_statistics import degrees_of_freedom\n",
    "from watertap_solvers import get_solver\n",
    "\n",
    "from pyomo.util.calc_var_value import calculate_variable_from_constraint\n",
    "\n",
    "# WaterTAP core components\n",
    "import watertap.property_models.NaCl_prop_pack as properties\n",
    "\n",
    "# Import reaktoro-pse and reaktoro\n",
    "from reaktoro_pse.reaktoro_block import ReaktoroBlock\n",
    "import reaktoro"
   ]
  },
  {
   "cell_type": "markdown",
   "metadata": {},
   "source": [
    "Define a feed comopostion, here we use seawater"
   ]
  },
  {
   "cell_type": "code",
   "execution_count": 2,
   "metadata": {},
   "outputs": [],
   "source": [
    "\"\"\"This is a typical composition of sea water with ion concentration in mg/L and pH\"\"\"\n",
    "\n",
    "sea_water_composition = {\n",
    "    \"Na\": 10556,\n",
    "    \"K\": 380,\n",
    "    \"Ca\": 400,\n",
    "    \"Mg\": 1262,\n",
    "    \"Cl\": 17000,  # this is lower then typical to emulate a feed that was not charge balanced\n",
    "    \"SO4\": 2649,\n",
    "    \"HCO3\": 140,\n",
    "}\n",
    "sea_water_ph = 7.56"
   ]
  },
  {
   "cell_type": "markdown",
   "metadata": {},
   "source": [
    "### Define standard Pyomo model"
   ]
  },
  {
   "cell_type": "code",
   "execution_count": 3,
   "metadata": {},
   "outputs": [],
   "source": [
    "m = ConcreteModel()\n",
    "# create IDAES flowsheet\n",
    "m.fs = FlowsheetBlock(dynamic=False)"
   ]
  },
  {
   "cell_type": "markdown",
   "metadata": {},
   "source": [
    "### Define pyomo variables for sea_water state, composition, and properties of interest"
   ]
  },
  {
   "cell_type": "code",
   "execution_count": 4,
   "metadata": {},
   "outputs": [],
   "source": [
    "\"\"\" build block for holding sea water properties\"\"\"\n",
    "\n",
    "m.fs.sea_water = Block()\n",
    "\"\"\"temperature\"\"\"\n",
    "m.fs.sea_water.temperature = Var(initialize=293, bounds=(0, 300), units=pyunits.K)\n",
    "m.fs.sea_water.temperature.fix()\n",
    "set_scaling_factor(m.fs.sea_water.temperature, 1 / 293)\n",
    "\"\"\"pressure\"\"\"\n",
    "m.fs.sea_water.pressure = Var(initialize=1e5, units=pyunits.Pa)\n",
    "m.fs.sea_water.pressure.fix()\n",
    "set_scaling_factor(m.fs.sea_water.pressure, 1 / 1e5)\n",
    "\"\"\"pH\"\"\"\n",
    "m.fs.sea_water.pH = Var(initialize=sea_water_ph)\n",
    "m.fs.sea_water.pH.fix()\n",
    "set_scaling_factor(m.fs.sea_water.pH, 1)"
   ]
  },
  {
   "cell_type": "markdown",
   "metadata": {},
   "source": [
    "Define composition and mass flows. ReaktoroBlock requires mass flows or mol flows as input for composition"
   ]
  },
  {
   "cell_type": "code",
   "execution_count": 5,
   "metadata": {},
   "outputs": [],
   "source": [
    "\"\"\"Ions\"\"\"\n",
    "\n",
    "ions = list(sea_water_composition.keys())\n",
    "\n",
    "\"\"\"Ions concentration variable\"\"\"\n",
    "m.fs.sea_water.species_concentrations = Var(\n",
    "    ions, initialize=1, units=pyunits.mg / pyunits.L\n",
    ")\n",
    "\n",
    "\"\"\"Mass flows of all species, including water\"\"\"\n",
    "ions.append(\"H2O\")\n",
    "m.fs.sea_water.species_mass_flow = Var(ions, initialize=1, units=pyunits.kg / pyunits.s)"
   ]
  },
  {
   "cell_type": "markdown",
   "metadata": {},
   "source": [
    "Create output properties variables"
   ]
  },
  {
   "cell_type": "code",
   "execution_count": 6,
   "metadata": {},
   "outputs": [],
   "source": [
    "\"\"\"Charge neutrality\"\"\"\n",
    "\n",
    "m.fs.sea_water.charge = Var(initialize=0)\n",
    "set_scaling_factor(m.fs.sea_water.charge, 1e8)\n",
    "\n",
    "\"\"\"Solution density\"\"\"\n",
    "m.fs.sea_water.density = Var(initialize=1000, units=pyunits.kg / pyunits.m**3)\n",
    "set_scaling_factor(m.fs.sea_water.density, 1e-3)\n",
    "\n",
    "\"\"\"Osmotic pressure\"\"\"\n",
    "m.fs.sea_water.osmotic_pressure = Var(initialize=1, units=pyunits.Pa)\n",
    "set_scaling_factor(m.fs.sea_water.osmotic_pressure, 1e-5)"
   ]
  },
  {
   "cell_type": "markdown",
   "metadata": {},
   "source": [
    "Build constraints for calculation of mass flows"
   ]
  },
  {
   "cell_type": "code",
   "execution_count": 7,
   "metadata": {},
   "outputs": [],
   "source": [
    "\"\"\"Write constraints to convert concentration to mass flows\"\"\"\n",
    "\n",
    "@m.fs.sea_water.Constraint(list(m.fs.sea_water.species_concentrations.keys()))\n",
    "def eq_sea_water_species_mass_flow(fs, ion):\n",
    "    \"\"\"calculate mass flow based on density\"\"\"\n",
    "    return m.fs.sea_water.species_mass_flow[ion] == pyunits.convert(\n",
    "        m.fs.sea_water.species_concentrations[ion]\n",
    "        * m.fs.sea_water.species_mass_flow[\"H2O\"]\n",
    "        / m.fs.sea_water.density,\n",
    "        to_units=pyunits.kg / pyunits.s,\n",
    "    )"
   ]
  },
  {
   "cell_type": "markdown",
   "metadata": {},
   "source": [
    "### Put all outputs into a single dictionary for use in ReaktoroBlock\n",
    "Note how we defined \"speciesAmount\":True in dict, this will also return all true species based on provided database and apparent species"
   ]
  },
  {
   "cell_type": "code",
   "execution_count": 8,
   "metadata": {},
   "outputs": [],
   "source": [
    "\"\"\"We need to define an output dictionary with our properties - this can also be an Pyomo IndexedVar please check examples in examples folder for how to use IndexedVars as outputs\"\"\"\n",
    "\n",
    "m.fs.sea_water.outputs = {\n",
    "    (\"density\", None): m.fs.sea_water.density,\n",
    "    (\"charge\", None): m.fs.sea_water.charge,\n",
    "    (\n",
    "        \"osmoticPressure\",\n",
    "        \"H2O\",\n",
    "    ): m.fs.sea_water.osmotic_pressure,  # not how the second key is the water, we can get osmotic pressure for different components in the system\n",
    "    \"speciesAmount\": True,\n",
    "}  # - this will force reaktor to return exact speciation with all species"
   ]
  },
  {
   "cell_type": "markdown",
   "metadata": {},
   "source": [
    "### Configure ReaktoroBlock\n",
    "We choose PhreeqC Pitzer database is a\\ good choice for high salinity feeds like sea water. \n",
    "For comparison of PhreeqC data base following paper is a good reference: https://doi.org/10.1016/j.earscirev.2021.103888 "
   ]
  },
  {
   "cell_type": "code",
   "execution_count": 9,
   "metadata": {},
   "outputs": [
    {
     "name": "stdout",
     "output_type": "stream",
     "text": [
      "2025-05-21 11:12:52 [INFO] idaes.reaktoro_pse.core.reaktoro_inputs: Exact speciation is not provided! Fixing aqueous solvent and, excluding H\n",
      "2025-05-21 11:12:52 [INFO] idaes.reaktoro_pse.core.reaktoro_inputs: Exact speciation is not provided! Fixing aqueous solvent and, excluding O\n",
      "2025-05-21 11:12:52 [INFO] idaes.reaktoro_pse.core.reaktoro_solver: rktSolver inputs: ['[C]', '[Na]', '[Mg]', '[S]', '[Cl]', '[K]', '[Ca]', '[H2O]', '[H]', '[O]', '[H+]']\n",
      "2025-05-21 11:12:52 [INFO] idaes.reaktoro_pse.core.reaktoro_solver: rktSolver constraints: ['C_constraint', 'Na_constraint', 'Mg_constraint', 'S_constraint', 'Cl_constraint', 'K_constraint', 'Ca_constraint', 'H2O_constraint', 'H_dummy_constraint', 'O_dummy_constraint', 'pH']\n",
      "2025-05-21 11:12:52 [INFO] idaes.reaktoro_pse.core.reaktoro_gray_box: RKT gray box using NoHessian hessian type\n"
     ]
    }
   ],
   "source": [
    "m.fs.sea_water.eq_reaktoro_properties = ReaktoroBlock(\n",
    "    system_state={\n",
    "        \"temperature\": m.fs.sea_water.temperature,\n",
    "        \"pressure\": m.fs.sea_water.pressure,\n",
    "        \"pH\": m.fs.sea_water.pH,\n",
    "    },\n",
    "    aqueous_phase={\n",
    "        \"composition\": m.fs.sea_water.species_mass_flow,  # This is the spices mass flow\n",
    "        \"convert_to_rkt_species\": True,  # We can use default converter as its defined for default database (Phreeqc and pitzer)\n",
    "        \"activity_model\": reaktoro.ActivityModelPitzer(),  # Can provide a string, or Reaktoro initialized class\n",
    "        \"fixed_solvent_specie\": \"H2O\",  # We need to define our aqueous solvent as we have to speciate the block\n",
    "    },\n",
    "    outputs=m.fs.sea_water.outputs,  # outputs we desired\n",
    "    database=\"PhreeqcDatabase\",  # can also be reaktoro.PhreeqcDatabase('pitzer.dat')\n",
    "    database_file=\"pitzer.dat\",  # needs to be a string that names the database file or points to its location\n",
    "    dissolve_species_in_reaktoro=True,  # This will sum up all species into elements in Reaktoro directly, if set to false, it will build Pyomo constraints instead\n",
    "    assert_charge_neutrality=False,  # This is True by Default, but here we actually want to adjust the input speciation till the charge is zero\n",
    ")"
   ]
  },
  {
   "cell_type": "markdown",
   "metadata": {},
   "source": [
    "### Inspecting Reaktoro block "
   ]
  },
  {
   "cell_type": "markdown",
   "metadata": {},
   "source": [
    "The gray box is constructed on reaktoro_model block"
   ]
  },
  {
   "cell_type": "code",
   "execution_count": 10,
   "metadata": {},
   "outputs": [
    {
     "name": "stdout",
     "output_type": "stream",
     "text": [
      "inputs : Size=11, Index=fs.sea_water.eq_reaktoro_properties.reaktoro_model._input_names_set\n",
      "    Key         : Lower : Value : Upper : Fixed : Stale : Domain\n",
      "          CO3-2 :     0 :     1 :  None : False : False :  Reals\n",
      "           Ca+2 :     0 :     1 :  None : False : False :  Reals\n",
      "            Cl- :     0 :     1 :  None : False : False :  Reals\n",
      "            H2O :     0 :     1 :  None : False : False :  Reals\n",
      "             K+ :     0 :     1 :  None : False : False :  Reals\n",
      "           Mg+2 :     0 :     1 :  None : False : False :  Reals\n",
      "            Na+ :     0 :     1 :  None : False : False :  Reals\n",
      "          SO4-2 :     0 :     1 :  None : False : False :  Reals\n",
      "             pH :     0 :     1 :  None : False : False :  Reals\n",
      "       pressure :     0 :     1 :  None : False : False :  Reals\n",
      "    temperature :     0 :     1 :  None : False : False :  Reals\n"
     ]
    }
   ],
   "source": [
    "m.fs.sea_water.eq_reaktoro_properties.reaktoro_model.inputs.display()"
   ]
  },
  {
   "cell_type": "markdown",
   "metadata": {},
   "source": [
    "This inputs are converted to element sums, with in reaktoro and we can inspect them for each block\n",
    "using lower level api calls "
   ]
  },
  {
   "cell_type": "code",
   "execution_count": 11,
   "metadata": {},
   "outputs": [
    {
     "name": "stdout",
     "output_type": "stream",
     "text": [
      "C [(1.0, 'CO3-2')]\n",
      "Na [(1.0, 'Na+')]\n",
      "Mg [(1.0, 'Mg+2')]\n",
      "S [(1.0, 'SO4-2')]\n",
      "Cl [(1.0, 'Cl-')]\n",
      "K [(1.0, 'K+')]\n",
      "Ca [(1.0, 'Ca+2')]\n"
     ]
    }
   ],
   "source": [
    "conversion_dict = m.fs.sea_water.eq_reaktoro_properties.rkt_inputs.constraint_dict\n",
    "for element, species in conversion_dict.items():\n",
    "    print(element, species)"
   ]
  },
  {
   "cell_type": "markdown",
   "metadata": {},
   "source": [
    "### Lets inspect outputs from reaktoro graybox model"
   ]
  },
  {
   "cell_type": "markdown",
   "metadata": {},
   "source": [
    "Note how we are missing osmoticPressure, and instead have speciesActivityLn and speciesStandardVolume as our outputs, this is becouse osmoticPressure is a pyomo property, rather a native property supplied by reaktoro. You can inspect how this property is created by checking the:\n",
    "* osmoticPressure in PyomoProperties class located in [reaktoro_pse.core.reaktoro_outputs](https://github.com/watertap-org/reaktoro-pse/blob/33b4cf14df8cb94f21fa826feae2fb6b51ea580a/src/reaktoro_pse/core/reaktoro_outputs.py#L118)\n",
    "* build_osmotic_constraint in [reaktoro_pse.core.pyomo_property_writer.property_functions](https://github.com/watertap-org/reaktoro-pse/blob/main/src/reaktoro_pse/core/pyomo_property_writer/property_functions.py)\n",
    "\n",
    "This two location will also show how we can access reaktoro database to pull out fixed parameters and create a custom pyomo property. "
   ]
  },
  {
   "cell_type": "code",
   "execution_count": 12,
   "metadata": {},
   "outputs": [
    {
     "name": "stdout",
     "output_type": "stream",
     "text": [
      "outputs : Size=20, Index=fs.sea_water.eq_reaktoro_properties.reaktoro_model._output_names_set\n",
      "    Key                              : Lower : Value : Upper : Fixed : Stale : Domain\n",
      "                    ('charge', None) :  None :   0.1 :  None : False : False :  Reals\n",
      "                   ('density', None) :  None :   0.1 :  None : False : False :  Reals\n",
      "        ('speciesActivityLn', 'H2O') :  None :   0.1 :  None : False : False :  Reals\n",
      "            ('speciesAmount', 'CO2') :  None :   0.1 :  None : False : False :  Reals\n",
      "          ('speciesAmount', 'CO3-2') :  None :   0.1 :  None : False : False :  Reals\n",
      "           ('speciesAmount', 'Ca+2') :  None :   0.1 :  None : False : False :  Reals\n",
      "            ('speciesAmount', 'Cl-') :  None :   0.1 :  None : False : False :  Reals\n",
      "             ('speciesAmount', 'H+') :  None :   0.1 :  None : False : False :  Reals\n",
      "            ('speciesAmount', 'H2O') :  None :   0.1 :  None : False : False :  Reals\n",
      "          ('speciesAmount', 'HCO3-') :  None :   0.1 :  None : False : False :  Reals\n",
      "          ('speciesAmount', 'HSO4-') :  None :   0.1 :  None : False : False :  Reals\n",
      "             ('speciesAmount', 'K+') :  None :   0.1 :  None : False : False :  Reals\n",
      "           ('speciesAmount', 'Mg+2') :  None :   0.1 :  None : False : False :  Reals\n",
      "          ('speciesAmount', 'MgCO3') :  None :   0.1 :  None : False : False :  Reals\n",
      "          ('speciesAmount', 'MgOH+') :  None :   0.1 :  None : False : False :  Reals\n",
      "            ('speciesAmount', 'Na+') :  None :   0.1 :  None : False : False :  Reals\n",
      "            ('speciesAmount', 'OH-') :  None :   0.1 :  None : False : False :  Reals\n",
      "          ('speciesAmount', 'SO4-2') :  None :   0.1 :  None : False : False :  Reals\n",
      "    ('speciesStandardVolume', 'H2O') :  None :   0.1 :  None : False : False :  Reals\n",
      "               ('temperature', None) :  None :   0.1 :  None : False : False :  Reals\n"
     ]
    }
   ],
   "source": [
    "m.fs.sea_water.eq_reaktoro_properties.reaktoro_model.outputs.display()"
   ]
  },
  {
   "cell_type": "markdown",
   "metadata": {},
   "source": [
    "### Lets initialize our model"
   ]
  },
  {
   "cell_type": "code",
   "execution_count": 13,
   "metadata": {},
   "outputs": [],
   "source": [
    "for ion, value in sea_water_composition.items():\n",
    "    \"\"\"Fix concentration amount\"\"\"\n",
    "    m.fs.sea_water.species_concentrations[ion].fix(value)\n",
    "    set_scaling_factor(m.fs.sea_water.species_concentrations[ion], 1 / value)\n",
    "\n",
    "\"\"\"Set flow to 1 kg of water\"\"\"\n",
    "m.fs.sea_water.species_mass_flow[\"H2O\"].fix(1)\n",
    "\n",
    "\"\"\"Initialize concentration constraints \"\"\"\n",
    "for comp, pyoobj in m.fs.sea_water.eq_sea_water_species_mass_flow.items():\n",
    "    if \"H2O\" in comp:\n",
    "        set_scaling_factor(m.fs.sea_water.species_mass_flow[ion], 1)\n",
    "    else:\n",
    "        calculate_variable_from_constraint(\n",
    "            m.fs.sea_water.species_mass_flow[comp], pyoobj\n",
    "        )\n",
    "        set_scaling_factor(\n",
    "            m.fs.sea_water.species_mass_flow[ion],\n",
    "            1 / m.fs.sea_water.species_mass_flow[comp].value,\n",
    "        )\n",
    "        constraint_scaling_transform(\n",
    "            pyoobj, 1 / m.fs.sea_water.species_mass_flow[comp].value\n",
    "        )"
   ]
  },
  {
   "cell_type": "markdown",
   "metadata": {},
   "source": [
    "### Initialize Reaktoro block.  \n",
    "Reaktoro initialization does several steps:\n",
    "\n",
    "1) Initialize input constraints propagating them from user variables to Reaktoro graybox inputs\n",
    "2) Solve the Reaktoro block to get output properties \n",
    "3) Propagate Reaktoro solution through output constraints and to output variables \n",
    "4) Scale all input and output variables and constraints using either user provided scaling factors or by inverse of their value \n",
    "5) Scale the jacobian using user provided scaling or inverse of scaling factors of the gray box outputs\n",
    "\n",
    "This will in general provide a well scaled problem. "
   ]
  },
  {
   "cell_type": "code",
   "execution_count": 14,
   "metadata": {},
   "outputs": [
    {
     "name": "stdout",
     "output_type": "stream",
     "text": [
      "2025-05-21 11:12:52 [INFO] idaes.reaktoro_pse.reaktoro_block: ---initializing property block fs.sea_water.eq_reaktoro_properties----\n"
     ]
    },
    {
     "name": "stdout",
     "output_type": "stream",
     "text": [
      "2025-05-21 11:12:52 [INFO] idaes.reaktoro_pse.core.reaktoro_state: Equilibrated successfully\n",
      "2025-05-21 11:12:52 [INFO] idaes.reaktoro_pse.core.reaktoro_block_builder: Initialized rkt block\n",
      "Density: 1023.4759353858051\n",
      "Osmotic pressure: 2268715.8260405306\n",
      "Solution charge: 0.05577128070860777\n"
     ]
    }
   ],
   "source": [
    "m.fs.sea_water.eq_reaktoro_properties.initialize()\n",
    "\n",
    "print(\n",
    "    \"Density:\",\n",
    "    m.fs.sea_water.density.value,\n",
    ")\n",
    "print(\n",
    "    \"Osmotic pressure:\",\n",
    "    m.fs.sea_water.osmotic_pressure.value,\n",
    ")\n",
    "print(\"Solution charge:\", m.fs.sea_water.charge.value)"
   ]
  },
  {
   "cell_type": "markdown",
   "metadata": {},
   "source": [
    "Displaying Reaktoro state"
   ]
  },
  {
   "cell_type": "code",
   "execution_count": 15,
   "metadata": {},
   "outputs": [
    {
     "name": "stdout",
     "output_type": "stream",
     "text": [
      "2025-05-21 11:12:52 [INFO] idaes.reaktoro_pse.reaktoro_block: -----Displaying information for property block ------\n",
      "+-----------------+------------+------+\n",
      "| Property        |      Value | Unit |\n",
      "+-----------------+------------+------+\n",
      "| Temperature     |   293.0000 |    K |\n",
      "| Pressure        |     1.0000 |  bar |\n",
      "| Charge:         | 5.5771e-02 |  mol |\n",
      "| Element Amount: |            |      |\n",
      "| :: H            | 1.1101e+02 |  mol |\n",
      "| :: C            | 2.3329e-03 |  mol |\n",
      "| :: O            | 5.5623e+01 |  mol |\n",
      "| :: Na           | 4.5917e-01 |  mol |\n",
      "| :: Mg           | 5.1926e-02 |  mol |\n",
      "| :: S            | 2.7575e-02 |  mol |\n",
      "| :: Cl           | 4.7950e-01 |  mol |\n",
      "| :: K            | 9.7192e-03 |  mol |\n",
      "| :: Ca           | 9.9803e-03 |  mol |\n",
      "| Species Amount: |            |      |\n",
      "| :: H+           | 3.8058e-08 |  mol |\n",
      "| :: H2O          | 5.5506e+01 |  mol |\n",
      "| :: CO3-2        | 1.9905e-05 |  mol |\n",
      "| :: CO2          | 9.1011e-05 |  mol |\n",
      "| :: Ca+2         | 9.9803e-03 |  mol |\n",
      "| :: Cl-          | 4.7950e-01 |  mol |\n",
      "| :: HCO3-        | 2.2039e-03 |  mol |\n",
      "| :: SO4-2        | 2.7575e-02 |  mol |\n",
      "| :: HSO4-        | 9.0296e-09 |  mol |\n",
      "| :: Mg+2         | 5.1907e-02 |  mol |\n",
      "| :: K+           | 9.7192e-03 |  mol |\n",
      "| :: MgCO3        | 1.8022e-05 |  mol |\n",
      "| :: MgOH+        | 4.1372e-07 |  mol |\n",
      "| :: Na+          | 4.5917e-01 |  mol |\n",
      "| :: OH-          | 4.0668e-07 |  mol |\n",
      "+-----------------+------------+------+\n"
     ]
    }
   ],
   "source": [
    "m.fs.sea_water.eq_reaktoro_properties.display_reaktoro_state()"
   ]
  },
  {
   "cell_type": "markdown",
   "metadata": {},
   "source": [
    "### Lets solve the current model to:\n",
    "* Find actual mass flows of species \n",
    "* Solution density\n",
    "* Required Cl amount to get zero charge in solution"
   ]
  },
  {
   "cell_type": "code",
   "execution_count": 16,
   "metadata": {},
   "outputs": [],
   "source": [
    "\"\"\"Unfix Cl and fix charge to 0\"\"\"\n",
    "\n",
    "m.fs.sea_water.species_concentrations[\"Cl\"].unfix()\n",
    "m.fs.sea_water.charge.fix(0)"
   ]
  },
  {
   "cell_type": "markdown",
   "metadata": {},
   "source": [
    "Lets check DOFs before solve, and note that its equal to number of our reaktoro outputs"
   ]
  },
  {
   "cell_type": "code",
   "execution_count": 17,
   "metadata": {},
   "outputs": [
    {
     "name": "stdout",
     "output_type": "stream",
     "text": [
      "DOFs: 0\n"
     ]
    }
   ],
   "source": [
    "print(\"DOFs:\", degrees_of_freedom(m))\n",
    "assert degrees_of_freedom(m) == 0"
   ]
  },
  {
   "cell_type": "code",
   "execution_count": 18,
   "metadata": {},
   "outputs": [
    {
     "name": "stdout",
     "output_type": "stream",
     "text": [
      "cyipopt-watertap: cyipopt with user variable scaling and IDAES jacobian constraint scaling\n",
      "\n",
      "******************************************************************************\n",
      "This program contains Ipopt, a library for large-scale nonlinear optimization.\n",
      " Ipopt is released as open source code under the Eclipse Public License (EPL).\n",
      "         For more information visit https://github.com/coin-or/Ipopt\n",
      "******************************************************************************\n",
      "\n",
      "This is Ipopt version 3.14.16, running with linear solver MUMPS 5.7.2.\n",
      "\n",
      "Number of nonzeros in equality constraint Jacobian...:      310\n",
      "Number of nonzeros in inequality constraint Jacobian.:        0\n",
      "Number of nonzeros in Lagrangian Hessian.............:       17\n",
      "\n",
      "Total number of variables............................:       56\n",
      "                     variables with only lower bounds:       11\n",
      "                variables with lower and upper bounds:        0\n",
      "                     variables with only upper bounds:        0\n",
      "Total number of equality constraints.................:       56\n",
      "Total number of inequality constraints...............:        0\n",
      "        inequality constraints with only lower bounds:        0\n",
      "   inequality constraints with lower and upper bounds:        0\n",
      "        inequality constraints with only upper bounds:        0\n",
      "\n",
      "iter    objective    inf_pr   inf_du lg(mu)  ||d||  lg(rg) alpha_du alpha_pr  ls\n",
      "   0  0.0000000e+00 5.58e+06 1.00e+00  -1.0 0.00e+00    -  0.00e+00 0.00e+00   0\n",
      "   1  0.0000000e+00 2.78e-04 9.68e-02  -1.0 5.58e+06    -  9.11e-01 1.00e+00h  1\n",
      "   2  0.0000000e+00 1.01e-11 0.00e+00  -1.0 5.62e-03    -  1.00e+00 1.00e+00h  1\n",
      "\n",
      "Number of Iterations....: 2\n",
      "\n",
      "                                   (scaled)                 (unscaled)\n",
      "Objective...............:   0.0000000000000000e+00    0.0000000000000000e+00\n",
      "Dual infeasibility......:   0.0000000000000000e+00    0.0000000000000000e+00\n",
      "Constraint violation....:   9.0949470177292824e-10    1.0065281941251669e-11\n",
      "Variable bound violation:   0.0000000000000000e+00    0.0000000000000000e+00\n",
      "Complementarity.........:   0.0000000000000000e+00    0.0000000000000000e+00\n",
      "Overall NLP error.......:   9.0949470177292824e-10    1.0065281941251669e-11\n",
      "\n",
      "\n",
      "Number of objective function evaluations             = 3\n",
      "Number of objective gradient evaluations             = 3\n",
      "Number of equality constraint evaluations            = 3\n",
      "Number of inequality constraint evaluations          = 0\n",
      "Number of equality constraint Jacobian evaluations   = 3\n",
      "Number of inequality constraint Jacobian evaluations = 0\n",
      "Number of Lagrangian Hessian evaluations             = 2\n",
      "Total seconds in IPOPT                               = 0.140\n",
      "\n",
      "EXIT: Optimal Solution Found.\n"
     ]
    }
   ],
   "source": [
    "initial_cl = m.fs.sea_water.species_concentrations[\"Cl\"].value\n",
    "cy_solver = get_solver(solver=\"cyipopt-watertap\")\n",
    "\n",
    "cy_solver.options[\"max_iter\"] = 25\n",
    "\n",
    "result = cy_solver.solve(m, tee=True)\n",
    "assert_optimal_termination(result)"
   ]
  },
  {
   "cell_type": "code",
   "execution_count": 19,
   "metadata": {},
   "outputs": [
    {
     "name": "stdout",
     "output_type": "stream",
     "text": [
      "Density 1023.819216675657\n",
      "Osmotic pressure 2343131.1214005644\n",
      "Solution charge 0 Intial Cl 17000 Final Cl 18977.219105695785\n"
     ]
    }
   ],
   "source": [
    "print(\n",
    "    \"Density\",\n",
    "    m.fs.sea_water.density.value,\n",
    ")\n",
    "print(\n",
    "    \"Osmotic pressure\",\n",
    "    m.fs.sea_water.osmotic_pressure.value,\n",
    ")\n",
    "print(\n",
    "    \"Solution charge\",\n",
    "    m.fs.sea_water.charge.value,\n",
    "    \"Intial Cl\",\n",
    "    initial_cl,\n",
    "    \"Final Cl\",\n",
    "    m.fs.sea_water.species_concentrations[\"Cl\"].value,\n",
    ")"
   ]
  },
  {
   "cell_type": "markdown",
   "metadata": {},
   "source": [
    "Exact speciation is provided in ReaktoroBlock properties, with key (speciesAmount, specie)"
   ]
  },
  {
   "cell_type": "code",
   "execution_count": 20,
   "metadata": {},
   "outputs": [
    {
     "name": "stdout",
     "output_type": "stream",
     "text": [
      "outputs : Size=15, Index={('speciesAmount', 'K+'), ('speciesAmount', 'MgOH+'), ('speciesAmount', 'H2O'), ('speciesAmount', 'Ca+2'), ('speciesAmount', 'Na+'), ('speciesAmount', 'OH-'), ('speciesAmount', 'MgCO3'), ('speciesAmount', 'CO2'), ('speciesAmount', 'SO4-2'), ('speciesAmount', 'CO3-2'), ('speciesAmount', 'HCO3-'), ('speciesAmount', 'Cl-'), ('speciesAmount', 'HSO4-'), ('speciesAmount', 'H+'), ('speciesAmount', 'Mg+2')}\n",
      "    Key                        : Lower : Value                  : Upper : Fixed : Stale : Domain\n",
      "      ('speciesAmount', 'CO2') :  None :  8.820292774576345e-05 :  None : False : False :  Reals\n",
      "    ('speciesAmount', 'CO3-2') :  None : 2.0221381093695112e-05 :  None : False : False :  Reals\n",
      "     ('speciesAmount', 'Ca+2') :  None :   0.009748120528662457 :  None : False : False :  Reals\n",
      "      ('speciesAmount', 'Cl-') :  None :     0.5228168599519147 :  None : False : False :  Reals\n",
      "       ('speciesAmount', 'H+') :  None :  3.735931000380944e-08 :  None : False : False :  Reals\n",
      "      ('speciesAmount', 'H2O') :  None :      55.50621669626999 :  None : False : False :  Reals\n",
      "    ('speciesAmount', 'HCO3-') :  None :  0.0021521046724689713 :  None : False : False :  Reals\n",
      "    ('speciesAmount', 'HSO4-') :  None :   8.58345616073041e-09 :  None : False : False :  Reals\n",
      "       ('speciesAmount', 'K+') :  None :   0.009493110557114772 :  None : False : False :  Reals\n",
      "     ('speciesAmount', 'Mg+2') :  None :    0.05069928889285605 :  None : False : False :  Reals\n",
      "    ('speciesAmount', 'MgCO3') :  None : 1.8056004936426523e-05 :  None : False : False :  Reals\n",
      "    ('speciesAmount', 'MgOH+') :  None : 4.1434205696376683e-07 :  None : False : False :  Reals\n",
      "      ('speciesAmount', 'Na+') :  None :    0.44848846211494553 :  None : False : False :  Reals\n",
      "      ('speciesAmount', 'OH-') :  None :   4.11962911503067e-07 :  None : False : False :  Reals\n",
      "    ('speciesAmount', 'SO4-2') :  None :    0.02693350764176282 :  None : False : False :  Reals\n"
     ]
    }
   ],
   "source": [
    "m.fs.sea_water.eq_reaktoro_properties.outputs.display()"
   ]
  },
  {
   "cell_type": "markdown",
   "metadata": {},
   "source": [
    "## Performing acid addition (Chemistry modification)\n",
    "We need to build a a specitation reaktoro block and add chemical to it."
   ]
  },
  {
   "cell_type": "code",
   "execution_count": 21,
   "metadata": {},
   "outputs": [],
   "source": [
    "\"\"\"We will want to add a dose of acid to the feed to drop the pH to typical operating point of RO\"\"\"\n",
    "\n",
    "m.fs.acid_dose = Var(initialize=1e-8, units=pyunits.mg / pyunits.L)\n",
    "set_scaling_factor(m.fs.acid_dose, 1)\n",
    "m.fs.acid_mass_flow = Var(initialize=1e-16, units=pyunits.kg / pyunits.s)\n",
    "set_scaling_factor(\n",
    "    m.fs.acid_mass_flow, 1e6\n",
    ")  # we know this is roughly right as we will be adding 1-100 ppm per L or kg of feed so the mass flow will be about 1e4\n",
    "\"\"\"Convert dose to mass flow \"\"\"\n",
    "m.fs.eq_acid_dose = Constraint(\n",
    "    expr=m.fs.acid_mass_flow\n",
    "    == pyunits.convert(\n",
    "        m.fs.acid_dose\n",
    "        * sum(obj for key, obj in m.fs.sea_water.species_mass_flow.items())\n",
    "        / m.fs.sea_water.density,\n",
    "        to_units=pyunits.kg / pyunits.s,\n",
    "    )\n",
    ")\n",
    "\n",
    "constraint_scaling_transform(m.fs.eq_acid_dose, 1e6)"
   ]
  },
  {
   "cell_type": "markdown",
   "metadata": {},
   "source": [
    "Crete a modfied sea water block and properites of interest "
   ]
  },
  {
   "cell_type": "code",
   "execution_count": 22,
   "metadata": {},
   "outputs": [
    {
     "name": "stdout",
     "output_type": "stream",
     "text": [
      "('pH', None) fs.modified_sea_water.pH\n",
      "('scalingTendency', 'Calcite') fs.modified_sea_water.scaling_tendencies[Calcite]\n",
      "('scalingTendency', 'Gypsum') fs.modified_sea_water.scaling_tendencies[Gypsum]\n"
     ]
    }
   ],
   "source": [
    "m.fs.modified_sea_water = Block()\n",
    "m.fs.modified_sea_water.pH = Var(initialize=1)\n",
    "set_scaling_factor(m.fs.modified_sea_water, 1)\n",
    "m.fs.modified_sea_water.scaling_tendencies = Var(\n",
    "    [\"Calcite\", \"Gypsum\"],\n",
    "    initialize=1,\n",
    ")\n",
    "set_scaling_factor(m.fs.modified_sea_water.scaling_tendencies, 1)\n",
    "\n",
    "\"\"\"set up modified outputs\"\"\"\n",
    "m.fs.modified_sea_water.outputs = {(\"pH\", None): m.fs.modified_sea_water.pH}\n",
    "for key, obj in m.fs.modified_sea_water.scaling_tendencies.items():\n",
    "    m.fs.modified_sea_water.outputs[(\"scalingTendency\", key)] = obj\n",
    "for key, obj in m.fs.modified_sea_water.outputs.items():\n",
    "    print(key, obj)"
   ]
  },
  {
   "cell_type": "markdown",
   "metadata": {},
   "source": [
    "Build speciation reaktoro block and provide acid as an input\n",
    "We can use exact speciation from our eq_sea_water_properties block output as new mol flow input "
   ]
  },
  {
   "cell_type": "code",
   "execution_count": 23,
   "metadata": {},
   "outputs": [
    {
     "name": "stdout",
     "output_type": "stream",
     "text": [
      "fs.modified_sea_water.eq_reaktoro_properties.relaxation_H2O\n",
      "2025-05-21 11:12:53 [WARNING] idaes.reaktoro_pse.core.reaktoro_inputs: Registered an empty constraint for OH-, this can lead to unexpected results depending on reaktoro configuration, please use with caution\n",
      "2025-05-21 11:12:53 [WARNING] idaes.reaktoro_pse.core.reaktoro_inputs: Registered an empty constraint for H+, this can lead to unexpected results depending on reaktoro configuration, please use with caution\n",
      "2025-05-21 11:12:53 [WARNING] idaes.reaktoro_pse.core.reaktoro_inputs: Registered an empty constraint for H, this can lead to unexpected results depending on reaktoro configuration, please use with caution\n"
     ]
    },
    {
     "name": "stdout",
     "output_type": "stream",
     "text": [
      "2025-05-21 11:12:53 [WARNING] idaes.reaktoro_pse.core.reaktoro_inputs: Registered an empty constraint for O, this can lead to unexpected results depending on reaktoro configuration, please use with caution\n",
      "2025-05-21 11:12:53 [INFO] idaes.reaktoro_pse.core.reaktoro_solver: rktSolver inputs: ['[C]', '[Na]', '[Mg]', '[S]', '[Cl]', '[K]', '[Ca]', '[H2O]', '[H]', '[O]', '[H+]']\n",
      "2025-05-21 11:12:53 [INFO] idaes.reaktoro_pse.core.reaktoro_solver: rktSolver constraints: ['C_constraint', 'Na_constraint', 'Mg_constraint', 'S_constraint', 'Cl_constraint', 'K_constraint', 'Ca_constraint', 'H2O_constraint', 'H_dummy_constraint', 'O_dummy_constraint', 'pH']\n",
      "2025-05-21 11:12:53 [INFO] idaes.reaktoro_pse.core.reaktoro_gray_box: RKT gray box using NoHessian hessian type\n"
     ]
    }
   ],
   "source": [
    "m.fs.modified_sea_water.eq_reaktoro_properties = ReaktoroBlock(\n",
    "    exact_speciation=True,\n",
    "    aqueous_phase={\n",
    "        \"composition\": m.fs.sea_water.eq_reaktoro_properties.outputs,  # This is true spices mass flow\n",
    "        \"convert_to_rkt_species\": False,  # already has right naming convection\n",
    "        \"activity_model\": reaktoro.ActivityModelPitzer(),  # Can provide a string, or Reaktoro initialized class\n",
    "    },\n",
    "    system_state={\n",
    "        \"temperature\": m.fs.sea_water.temperature,  # same as our feed\n",
    "        \"pressure\": m.fs.sea_water.pressure,\n",
    "    },\n",
    "    outputs=m.fs.modified_sea_water.outputs,  # outputs we desired\n",
    "    chemistry_modifier={\n",
    "        \"HCl\": m.fs.acid_mass_flow\n",
    "    },  # here we define that we are adding 'HCL' as acid and its mass flow\n",
    "    database=\"PhreeqcDatabase\",  # Can provide a string, or Reaktoro initialized class reaktor.PhreeqcDatabase()\n",
    "    database_file=\"pitzer.dat\",  # needs to be a string that names the database file or points to its location\n",
    "    dissolve_species_in_reaktoro=True,  # This will sum up all species into elements in Reaktoro directly, if set to false, it will build Pyomo constraints instead\n",
    "    assert_charge_neutrality=False,  # This is True by Default, but here we actually want to adjust the input speciation till the charge is zero\n",
    "    reaktoro_solve_options={\n",
    "        \"open_species_on_property_block\": [\n",
    "            \"OH-\",\n",
    "            \"H+\",\n",
    "        ]\n",
    "    },  # This option helps stabilize Reaktoro by providing redundant constraints and generally does not impact final solution.\n",
    ")"
   ]
  },
  {
   "cell_type": "markdown",
   "metadata": {},
   "source": [
    "Lets inspect how this block sums up true species to elements "
   ]
  },
  {
   "cell_type": "code",
   "execution_count": 24,
   "metadata": {},
   "outputs": [
    {
     "name": "stdout",
     "output_type": "stream",
     "text": [
      "C [(1.0, 'MgCO3'), (1.0, 'CO2'), (1.0, 'CO3-2'), (1.0, 'HCO3-')]\n",
      "Na [(1.0, 'Na+')]\n",
      "Mg [(1.0, 'MgOH+'), (1.0, 'MgCO3'), (1.0, 'Mg+2')]\n",
      "S [(1.0, 'SO4-2'), (1.0, 'HSO4-')]\n",
      "Cl [(1.0, 'Cl-'), (1, 'modifier_HCl')]\n",
      "K [(1.0, 'K+')]\n",
      "Ca [(1.0, 'Ca+2')]\n"
     ]
    }
   ],
   "source": [
    "conversion_dict = (\n",
    "    m.fs.modified_sea_water.eq_reaktoro_properties.rkt_inputs.constraint_dict\n",
    ")\n",
    "for element, species in conversion_dict.items():\n",
    "    print(element, species)"
   ]
  },
  {
   "cell_type": "markdown",
   "metadata": {},
   "source": [
    "Initialize the spectiation block"
   ]
  },
  {
   "cell_type": "code",
   "execution_count": 25,
   "metadata": {},
   "outputs": [
    {
     "name": "stdout",
     "output_type": "stream",
     "text": [
      "2025-05-21 11:12:53 [INFO] idaes.reaktoro_pse.reaktoro_block: ---initializing property block fs.modified_sea_water.eq_reaktoro_properties----\n",
      "2025-05-21 11:12:53 [INFO] idaes.reaktoro_pse.core.reaktoro_state: Equilibrated successfully\n",
      "2025-05-21 11:12:53 [INFO] idaes.reaktoro_pse.core.reaktoro_block_builder: Initialized rkt block\n"
     ]
    }
   ],
   "source": [
    "m.fs.modified_sea_water.eq_reaktoro_properties.initialize()"
   ]
  },
  {
   "cell_type": "markdown",
   "metadata": {},
   "source": [
    "Verify out properties look good\n",
    "\n",
    "Note, how the pH thats estimated by Reaktoro is the same as our sea_water feed pH, even as we did not provide it as an input! This is because we did not add any acid yet."
   ]
  },
  {
   "cell_type": "code",
   "execution_count": 26,
   "metadata": {},
   "outputs": [
    {
     "name": "stdout",
     "output_type": "stream",
     "text": [
      "Sea water pH:  7.56\n",
      "Reaktoro block outputs\n",
      "('pH', None) 7.000000000140272\n",
      "('scalingTendency', 'Calcite') 0.23783999932302002\n",
      "('scalingTendency', 'Gypsum') 0.19974136467543047\n",
      "('elementAmount', 'H') 111.2433735523637\n",
      "('elementAmount', 'O') 55.734975143691244\n"
     ]
    }
   ],
   "source": [
    "print(\"Sea water pH: \", m.fs.sea_water.pH.value)\n",
    "print(\"Reaktoro block outputs\")\n",
    "for key, obj in m.fs.modified_sea_water.outputs.items():\n",
    "    print(key, obj.value)"
   ]
  },
  {
   "cell_type": "markdown",
   "metadata": {},
   "source": [
    "Lets find how much acid we need to add to drop pH to 7"
   ]
  },
  {
   "cell_type": "code",
   "execution_count": 27,
   "metadata": {},
   "outputs": [],
   "source": [
    "m.fs.modified_sea_water.pH.fix(7.0)"
   ]
  },
  {
   "cell_type": "code",
   "execution_count": 28,
   "metadata": {},
   "outputs": [
    {
     "name": "stdout",
     "output_type": "stream",
     "text": [
      "cyipopt-watertap: cyipopt with user variable scaling and IDAES jacobian constraint scaling\n",
      "This is Ipopt version 3.14.16, running with linear solver MUMPS 5.7.2.\n",
      "\n",
      "Number of nonzeros in equality constraint Jacobian...:      469\n",
      "Number of nonzeros in inequality constraint Jacobian.:        0\n",
      "Number of nonzeros in Lagrangian Hessian.............:       51\n",
      "\n",
      "Total number of variables............................:       86\n",
      "                     variables with only lower bounds:       31\n",
      "                variables with lower and upper bounds:        1\n",
      "                     variables with only upper bounds:        0\n",
      "Total number of equality constraints.................:       86\n",
      "Total number of inequality constraints...............:        0\n",
      "        inequality constraints with only lower bounds:        0\n",
      "   inequality constraints with lower and upper bounds:        0\n",
      "        inequality constraints with only upper bounds:        0\n",
      "\n",
      "iter    objective    inf_pr   inf_du lg(mu)  ||d||  lg(rg) alpha_du alpha_pr  ls\n",
      "   0  0.0000000e+00 1.00e-02 1.00e+00  -1.0 0.00e+00    -  0.00e+00 0.00e+00   0\n",
      "   1  0.0000000e+00 1.83e-06 3.32e+04  -1.0 2.35e+02    -  4.21e-05 1.00e+00f  1\n",
      "   2  0.0000000e+00 1.33e-11 0.00e+00  -1.0 1.65e-02    -  9.92e-01 1.00e+00h  1\n",
      "\n",
      "Number of Iterations....: 2\n",
      "\n",
      "                                   (scaled)                 (unscaled)\n",
      "Objective...............:   0.0000000000000000e+00    0.0000000000000000e+00\n",
      "Dual infeasibility......:   0.0000000000000000e+00    0.0000000000000000e+00\n",
      "Constraint violation....:   2.2737367544323206e-10    1.3265499809733681e-11\n",
      "Variable bound violation:   0.0000000000000000e+00    0.0000000000000000e+00\n",
      "Complementarity.........:   0.0000000000000000e+00    0.0000000000000000e+00\n",
      "Overall NLP error.......:   2.2737367544323206e-10    1.3265499809733681e-11\n",
      "\n",
      "\n",
      "Number of objective function evaluations             = 3\n",
      "Number of objective gradient evaluations             = 3\n",
      "Number of equality constraint evaluations            = 3\n",
      "Number of inequality constraint evaluations          = 0\n",
      "Number of equality constraint Jacobian evaluations   = 3\n",
      "Number of inequality constraint Jacobian evaluations = 0\n",
      "Number of Lagrangian Hessian evaluations             = 2\n",
      "Total seconds in IPOPT                               = 0.227\n",
      "\n",
      "EXIT: Optimal Solution Found.\n"
     ]
    }
   ],
   "source": [
    "cy_solver = get_solver(solver=\"cyipopt-watertap\")\n",
    "\n",
    "cy_solver.options[\"max_iter\"] = 25\n",
    "\n",
    "result = cy_solver.solve(m, tee=True)\n",
    "assert_optimal_termination(result)"
   ]
  },
  {
   "cell_type": "code",
   "execution_count": 29,
   "metadata": {},
   "outputs": [
    {
     "name": "stdout",
     "output_type": "stream",
     "text": [
      "Adjusted pH: 7.0 Acid dose: 8.488219374280215 PPM, Acid mass flow: 8.569016924201705e-06 kg/s\n"
     ]
    }
   ],
   "source": [
    "print(\n",
    "    \"Adjusted pH:\",\n",
    "    m.fs.modified_sea_water.pH.value,\n",
    "    \"Acid dose:\",\n",
    "    m.fs.acid_dose.value,\n",
    "    \"PPM, Acid mass flow:\",\n",
    "    m.fs.acid_mass_flow.value,\n",
    "    \"kg/s\",\n",
    ")"
   ]
  },
  {
   "cell_type": "markdown",
   "metadata": {},
   "source": [
    "## Alternatively ReaktoroBlock can be build to perform speciation internally. \n",
    "\n",
    "### Getting basic properties from ReaktoroBlock\n",
    "<img src=\"spec_block.png\" width=\"1200\" height=\"400\">"
   ]
  },
  {
   "cell_type": "markdown",
   "metadata": {},
   "source": [
    "Build combined block and output properties (same as for modified_sea_water block)"
   ]
  },
  {
   "cell_type": "code",
   "execution_count": 30,
   "metadata": {},
   "outputs": [
    {
     "name": "stdout",
     "output_type": "stream",
     "text": [
      "('pH', None) fs.combined_block.pH\n",
      "('scalingTendency', 'Calcite') fs.combined_block.scaling_tendencies[Calcite]\n",
      "('scalingTendency', 'Gypsum') fs.combined_block.scaling_tendencies[Gypsum]\n"
     ]
    }
   ],
   "source": [
    "m.fs.combined_block = Block()\n",
    "m.fs.combined_block.pH = Var(initialize=1)\n",
    "set_scaling_factor(m.fs.combined_block, 1)\n",
    "m.fs.combined_block.scaling_tendencies = Var(\n",
    "    [\"Calcite\", \"Gypsum\"],\n",
    "    initialize=1,\n",
    ")\n",
    "set_scaling_factor(m.fs.combined_block.scaling_tendencies, 1)\n",
    "m.fs.combined_block.outputs = {(\"pH\", None): m.fs.combined_block.pH}\n",
    "\n",
    "for key, obj in m.fs.combined_block.scaling_tendencies.items():\n",
    "    m.fs.combined_block.outputs[(\"scalingTendency\", key)] = obj\n",
    "for key, obj in m.fs.combined_block.outputs.items():\n",
    "    print(key, obj)"
   ]
  },
  {
   "cell_type": "markdown",
   "metadata": {},
   "source": [
    "Build Rektoro block with speciation, note how we now set build_speciation_block option to true. \n",
    "We also use the sea_water block inputs and species flows."
   ]
  },
  {
   "cell_type": "code",
   "execution_count": 31,
   "metadata": {},
   "outputs": [
    {
     "name": "stdout",
     "output_type": "stream",
     "text": [
      "2025-05-21 11:12:54 [INFO] idaes.reaktoro_pse.core.reaktoro_inputs: Exact speciation is not provided! Fixing aqueous solvent and, excluding H\n",
      "2025-05-21 11:12:54 [INFO] idaes.reaktoro_pse.core.reaktoro_inputs: Exact speciation is not provided! Fixing aqueous solvent and, excluding O\n",
      "2025-05-21 11:12:54 [INFO] idaes.reaktoro_pse.core.reaktoro_solver: rktSolver inputs: ['[C]', '[Na]', '[Mg]', '[S]', '[Cl]', '[K]', '[Ca]', '[H2O]', '[H]', '[O]', '[H+]']\n",
      "2025-05-21 11:12:54 [INFO] idaes.reaktoro_pse.core.reaktoro_solver: rktSolver constraints: ['C_constraint', 'Na_constraint', 'Mg_constraint', 'S_constraint', 'Cl_constraint', 'K_constraint', 'Ca_constraint', 'H2O_constraint', 'H_dummy_constraint', 'O_dummy_constraint', 'pH']\n",
      "2025-05-21 11:12:54 [INFO] idaes.reaktoro_pse.core.reaktoro_gray_box: RKT gray box using NoHessian hessian type\n",
      "fs.combined_block.eq_reaktoro_properties.relaxation_H2O\n",
      "2025-05-21 11:12:54 [WARNING] idaes.reaktoro_pse.core.reaktoro_inputs: Registered an empty constraint for OH-, this can lead to unexpected results depending on reaktoro configuration, please use with caution\n",
      "2025-05-21 11:12:54 [WARNING] idaes.reaktoro_pse.core.reaktoro_inputs: Registered an empty constraint for H+, this can lead to unexpected results depending on reaktoro configuration, please use with caution\n",
      "2025-05-21 11:12:54 [WARNING] idaes.reaktoro_pse.core.reaktoro_inputs: Registered an empty constraint for H, this can lead to unexpected results depending on reaktoro configuration, please use with caution\n",
      "2025-05-21 11:12:54 [WARNING] idaes.reaktoro_pse.core.reaktoro_inputs: Registered an empty constraint for O, this can lead to unexpected results depending on reaktoro configuration, please use with caution\n",
      "2025-05-21 11:12:54 [INFO] idaes.reaktoro_pse.core.reaktoro_solver: rktSolver inputs: ['[C]', '[Na]', '[Mg]', '[S]', '[Cl]', '[K]', '[Ca]', '[H2O]', '[H]', '[O]', '[H+]']\n",
      "2025-05-21 11:12:54 [INFO] idaes.reaktoro_pse.core.reaktoro_solver: rktSolver constraints: ['C_constraint', 'Na_constraint', 'Mg_constraint', 'S_constraint', 'Cl_constraint', 'K_constraint', 'Ca_constraint', 'H2O_constraint', 'H_dummy_constraint', 'O_dummy_constraint', 'pH']\n",
      "2025-05-21 11:12:54 [INFO] idaes.reaktoro_pse.core.reaktoro_gray_box: RKT gray box using NoHessian hessian type\n"
     ]
    }
   ],
   "source": [
    "m.fs.combined_block.eq_reaktoro_properties = ReaktoroBlock(\n",
    "    build_speciation_block=True,\n",
    "    system_state={\n",
    "        \"temperature\": m.fs.sea_water.temperature,\n",
    "        \"pressure\": m.fs.sea_water.pressure,\n",
    "        \"pH\": m.fs.sea_water.pH,\n",
    "    },\n",
    "    aqueous_phase={\n",
    "        \"composition\": m.fs.sea_water.species_mass_flow,  # This is the spices mass flow\n",
    "        \"convert_to_rkt_species\": True,  # We can use default converter as its defined for default database (Phreeqc and pitzer)\n",
    "        \"activity_model\": reaktoro.ActivityModelPitzer(),  # Can provide a string, or Reaktoro initialized class\n",
    "        \"fixed_solvent_specie\": \"H2O\",  # We need to define our aqueous solvent as we have to speciate the block\n",
    "    },\n",
    "    chemistry_modifier={\n",
    "        \"HCl\": m.fs.acid_mass_flow\n",
    "    },  # here we define that we are adding 'HCL' as acid and its mass flow\n",
    "    outputs=m.fs.combined_block.outputs,  # outputs we desired\n",
    "    database_file=\"pitzer.dat\",  # needs to be a string that names the database file or points to its location\n",
    "    dissolve_species_in_reaktoro=True,  # This will sum up all species into elements in Reaktoro directly, if set to false, it will build Pyomo constraints instead\n",
    "    assert_charge_neutrality=False,  # This is True by Default, but here we actually want to adjust the input speciation till the charge is zero\n",
    "    reaktoro_solve_options={\n",
    "        \"open_species_on_property_block\": [\n",
    "            \"OH-\",\n",
    "            \"H+\",\n",
    "        ]\n",
    "    },  # This option helps stabilize Reaktoro by providing redundant constraints and generally does not impact final solution.\n",
    ")"
   ]
  },
  {
   "cell_type": "markdown",
   "metadata": {},
   "source": [
    "#### Initialize the block\n",
    "\n",
    "Note how we get initialization messages for two blocks, the speciation block and property block."
   ]
  },
  {
   "cell_type": "code",
   "execution_count": 32,
   "metadata": {},
   "outputs": [
    {
     "name": "stdout",
     "output_type": "stream",
     "text": [
      "2025-05-21 11:12:54 [INFO] idaes.reaktoro_pse.reaktoro_block: ---initializing speciation block fs.combined_block.eq_reaktoro_properties----\n",
      "2025-05-21 11:12:54 [INFO] idaes.reaktoro_pse.core.reaktoro_state: Equilibrated successfully\n",
      "2025-05-21 11:12:54 [INFO] idaes.reaktoro_pse.core.reaktoro_block_builder: Initialized rkt block\n",
      "2025-05-21 11:12:54 [INFO] idaes.reaktoro_pse.reaktoro_block: ---initializing property block fs.combined_block.eq_reaktoro_properties----\n",
      "2025-05-21 11:12:54 [INFO] idaes.reaktoro_pse.core.reaktoro_state: Equilibrated successfully\n",
      "2025-05-21 11:12:54 [INFO] idaes.reaktoro_pse.core.reaktoro_block_builder: Initialized rkt block\n"
     ]
    }
   ],
   "source": [
    "m.fs.combined_block.eq_reaktoro_properties.initialize()"
   ]
  },
  {
   "cell_type": "markdown",
   "metadata": {},
   "source": [
    "Set new pH target and solve all the blocks again"
   ]
  },
  {
   "cell_type": "code",
   "execution_count": 33,
   "metadata": {},
   "outputs": [
    {
     "name": "stdout",
     "output_type": "stream",
     "text": [
      "cyipopt-watertap: cyipopt with user variable scaling and IDAES jacobian constraint scaling\n",
      "This is Ipopt version 3.14.16, running with linear solver MUMPS 5.7.2.\n",
      "\n",
      "Number of nonzeros in equality constraint Jacobian...:      847\n",
      "Number of nonzeros in inequality constraint Jacobian.:        0\n",
      "Number of nonzeros in Lagrangian Hessian.............:       81\n",
      "\n",
      "Total number of variables............................:      156\n",
      "                     variables with only lower bounds:       62\n",
      "                variables with lower and upper bounds:        2\n",
      "                     variables with only upper bounds:        0\n",
      "Total number of equality constraints.................:      156\n",
      "Total number of inequality constraints...............:        0\n",
      "        inequality constraints with only lower bounds:        0\n",
      "   inequality constraints with lower and upper bounds:        0\n",
      "        inequality constraints with only upper bounds:        0\n",
      "\n",
      "iter    objective    inf_pr   inf_du lg(mu)  ||d||  lg(rg) alpha_du alpha_pr  ls\n",
      "   0  0.0000000e+00 7.14e-02 1.00e+00  -1.0 0.00e+00    -  0.00e+00 0.00e+00   0\n",
      "   1  0.0000000e+00 1.36e-01 9.82e+03  -1.0 3.09e+02    -  4.28e-01 1.00e+00h  1\n",
      "   2  0.0000000e+00 3.19e-04 1.10e-01  -1.0 1.33e+02    -  8.07e-01 1.00e+00h  1\n",
      "   3  0.0000000e+00 5.39e-13 0.00e+00  -1.0 3.19e-04    -  1.00e+00 1.00e+00h  1\n",
      "\n",
      "Number of Iterations....: 3\n",
      "\n",
      "                                   (scaled)                 (unscaled)\n",
      "Objective...............:   0.0000000000000000e+00    0.0000000000000000e+00\n",
      "Dual infeasibility......:   0.0000000000000000e+00    0.0000000000000000e+00\n",
      "Constraint violation....:   1.1368683772161603e-10    5.3912430075797602e-13\n",
      "Variable bound violation:   0.0000000000000000e+00    0.0000000000000000e+00\n",
      "Complementarity.........:   0.0000000000000000e+00    0.0000000000000000e+00\n",
      "Overall NLP error.......:   1.1368683772161603e-10    5.3912430075797602e-13\n",
      "\n",
      "\n",
      "Number of objective function evaluations             = 4\n",
      "Number of objective gradient evaluations             = 4\n",
      "Number of equality constraint evaluations            = 4\n",
      "Number of inequality constraint evaluations          = 0\n",
      "Number of equality constraint Jacobian evaluations   = 4\n",
      "Number of inequality constraint Jacobian evaluations = 0\n",
      "Number of Lagrangian Hessian evaluations             = 3\n",
      "Total seconds in IPOPT                               = 0.767\n",
      "\n",
      "EXIT: Optimal Solution Found.\n"
     ]
    }
   ],
   "source": [
    "\"\"\"Fix new pH target\"\"\"\n",
    "\n",
    "m.fs.modified_sea_water.pH.fix(6.5)\n",
    "cy_solver = get_solver(solver=\"cyipopt-watertap\")\n",
    "cy_solver.options[\"max_iter\"] = 25\n",
    "result = cy_solver.solve(m, tee=True)\n",
    "assert_optimal_termination(result)"
   ]
  },
  {
   "cell_type": "markdown",
   "metadata": {},
   "source": [
    "Compare outputs between modified block and combine blocks"
   ]
  },
  {
   "cell_type": "code",
   "execution_count": 34,
   "metadata": {},
   "outputs": [
    {
     "name": "stdout",
     "output_type": "stream",
     "text": [
      "Acid dose: 24.463034341443702 PPM, Acid mass flow: 2.469589274805169e-05 kg/s\n",
      "('pH', None) Modified block result: 6.5 Combined block result: 6.500000000000539\n",
      "('scalingTendency', 'Calcite') Modified block result: 0.059140695069724906 Combined block result: 0.059140695069863615\n",
      "('scalingTendency', 'Gypsum') Modified block result: 0.20015129381011912 Combined block result: 0.20015129381010585\n",
      "('elementAmount', 'H') Modified block result: 111.01526369297702 Combined block result: 111.01526369297703\n",
      "('elementAmount', 'O') Modified block result: 55.62069913950683 Combined block result: 55.62069913950683\n"
     ]
    }
   ],
   "source": [
    "print(\n",
    "    \"Acid dose:\",\n",
    "    m.fs.acid_dose.value,\n",
    "    \"PPM, Acid mass flow:\",\n",
    "    m.fs.acid_mass_flow.value,\n",
    "    \"kg/s\",\n",
    ")\n",
    "for key in m.fs.combined_block.outputs:\n",
    "    print(\n",
    "        key,\n",
    "        \"Modified block result:\",\n",
    "        m.fs.modified_sea_water.outputs[key].value,\n",
    "        \"Combined block result:\",\n",
    "        m.fs.combined_block.outputs[key].value,\n",
    "    )"
   ]
  },
  {
   "cell_type": "markdown",
   "metadata": {},
   "source": [
    "### Effect of concentrating feed on scaling tendency"
   ]
  },
  {
   "cell_type": "code",
   "execution_count": 35,
   "metadata": {},
   "outputs": [
    {
     "name": "stdout",
     "output_type": "stream",
     "text": [
      "species_concentrations : Size=7, Index={Na, K, Ca, Mg, Cl, SO4, HCO3}, Units=mg/l\n",
      "    Key  : Lower : Value             : Upper : Fixed : Stale : Domain\n",
      "      Ca :  None :               800 :  None :  True : False :  Reals\n",
      "      Cl :  None : 18977.21910552184 :  None : False : False :  Reals\n",
      "    HCO3 :  None :               280 :  None :  True : False :  Reals\n",
      "       K :  None :               760 :  None :  True : False :  Reals\n",
      "      Mg :  None :              2524 :  None :  True : False :  Reals\n",
      "      Na :  None :             21112 :  None :  True : False :  Reals\n",
      "     SO4 :  None :              5298 :  None :  True : False :  Reals\n",
      "cyipopt-watertap: cyipopt with user variable scaling and IDAES jacobian constraint scaling\n",
      "This is Ipopt version 3.14.16, running with linear solver MUMPS 5.7.2.\n",
      "\n",
      "Number of nonzeros in equality constraint Jacobian...:      847\n",
      "Number of nonzeros in inequality constraint Jacobian.:        0\n",
      "Number of nonzeros in Lagrangian Hessian.............:       81\n",
      "\n",
      "Total number of variables............................:      156\n",
      "                     variables with only lower bounds:       62\n",
      "                variables with lower and upper bounds:        2\n",
      "                     variables with only upper bounds:        0\n",
      "Total number of equality constraints.................:      156\n",
      "Total number of inequality constraints...............:        0\n",
      "        inequality constraints with only lower bounds:        0\n",
      "   inequality constraints with lower and upper bounds:        0\n",
      "        inequality constraints with only upper bounds:        0\n",
      "\n",
      "iter    objective    inf_pr   inf_du lg(mu)  ||d||  lg(rg) alpha_du alpha_pr  ls\n",
      "   0  0.0000000e+00 9.77e-01 1.00e+00  -1.0 0.00e+00    -  0.00e+00 0.00e+00   0\n",
      "   1  0.0000000e+00 9.09e-01 1.27e+03  -1.0 4.85e+03    -  4.00e-01 6.91e-02h  2\n",
      "   2  0.0000000e+00 1.05e+00 1.33e+04  -1.0 7.15e+02    -  5.43e-01 4.74e-01f  1\n",
      "   3  0.0000000e+00 9.80e-02 2.06e+06  -1.0 2.33e+02    -  1.43e-02 1.00e+00f  1\n",
      "   4  0.0000000e+00 4.24e-03 1.26e+04  -1.0 8.42e+01    -  7.34e-01 1.00e+00h  1\n",
      "   5  0.0000000e+00 8.95e-06 5.31e+01  -1.0 1.61e+00    -  1.00e+00 1.00e+00h  1\n",
      "   6  0.0000000e+00 5.44e-10 0.00e+00  -2.5 5.09e-03    -  1.00e+00 1.00e+00h  1\n",
      "\n",
      "Number of Iterations....: 6\n",
      "\n",
      "                                   (scaled)                 (unscaled)\n",
      "Objective...............:   0.0000000000000000e+00    0.0000000000000000e+00\n",
      "Dual infeasibility......:   0.0000000000000000e+00    0.0000000000000000e+00\n",
      "Constraint violation....:   1.4493650724036424e-09    5.4440550061289885e-10\n",
      "Variable bound violation:   0.0000000000000000e+00    0.0000000000000000e+00\n",
      "Complementarity.........:   0.0000000000000000e+00    0.0000000000000000e+00\n",
      "Overall NLP error.......:   1.4493650724036424e-09    5.4440550061289885e-10\n",
      "\n",
      "\n",
      "Number of objective function evaluations             = 9\n",
      "Number of objective gradient evaluations             = 7\n",
      "Number of equality constraint evaluations            = 9\n",
      "Number of inequality constraint evaluations          = 0\n",
      "Number of equality constraint Jacobian evaluations   = 7\n",
      "Number of inequality constraint Jacobian evaluations = 0\n",
      "Number of Lagrangian Hessian evaluations             = 6\n",
      "Total seconds in IPOPT                               = 2.045\n",
      "\n",
      "EXIT: Optimal Solution Found.\n",
      "Acid dose: 11.558749665088596 PPM, Acid mass flow: 1.1754194735530267e-05 kg/s\n",
      "('pH', None) Modified block result: 7.1119680217423635 Combined block result: 7.111968021750864\n",
      "('scalingTendency', 'Calcite') Modified block result: 1 Combined block result: 1.0000000000210545\n",
      "('scalingTendency', 'Gypsum') Modified block result: 0.40128948718064367 Combined block result: 0.4012894871806428\n",
      "('elementAmount', 'H') Modified block result: 111.01694667447784 Combined block result: 111.01694667447784\n",
      "('elementAmount', 'O') Modified block result: 55.729955658277184 Combined block result: 55.729955658277184\n"
     ]
    }
   ],
   "source": [
    "\"\"\"Increase feed concentration\"\"\"\n",
    "\n",
    "for ion, pyo_obj in m.fs.sea_water.species_concentrations.items():\n",
    "    if ion != \"Cl\":\n",
    "        pyo_obj.fix(pyo_obj.value * 2)\n",
    "\n",
    "m.fs.modified_sea_water.pH.unfix()\n",
    "m.fs.modified_sea_water.outputs[\"scalingTendency\", \"Calcite\"].fix(1)\n",
    "m.fs.sea_water.species_concentrations.display()\n",
    "\n",
    "cy_solver = get_solver(solver=\"cyipopt-watertap\")\n",
    "cy_solver.options[\"max_iter\"] = 25\n",
    "result = cy_solver.solve(m, tee=True)\n",
    "assert_optimal_termination(result)\n",
    "print(\n",
    "    \"Acid dose:\",\n",
    "    m.fs.acid_dose.value,\n",
    "    \"PPM, Acid mass flow:\",\n",
    "    m.fs.acid_mass_flow.value,\n",
    "    \"kg/s\",\n",
    ")\n",
    "for key in m.fs.combined_block.outputs:\n",
    "    print(\n",
    "        key,\n",
    "        \"Modified block result:\",\n",
    "        m.fs.modified_sea_water.outputs[key].value,\n",
    "        \"Combined block result:\",\n",
    "        m.fs.combined_block.outputs[key].value,\n",
    "    )"
   ]
  }
 ],
 "metadata": {
  "kernelspec": {
   "display_name": "reaktoro-pse-dev",
   "language": "python",
   "name": "python3"
  },
  "language_info": {
   "codemirror_mode": {
    "name": "ipython",
    "version": 3
   },
   "file_extension": ".py",
   "mimetype": "text/x-python",
   "name": "python",
   "nbconvert_exporter": "python",
   "pygments_lexer": "ipython3",
   "version": "3.11.9"
  }
 },
 "nbformat": 4,
 "nbformat_minor": 4
}
